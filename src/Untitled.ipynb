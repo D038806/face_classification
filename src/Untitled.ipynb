{
 "cells": [
  {
   "cell_type": "code",
   "execution_count": 1,
   "metadata": {},
   "outputs": [
    {
     "name": "stderr",
     "output_type": "stream",
     "text": [
      "Using TensorFlow backend.\n"
     ]
    }
   ],
   "source": [
    "#!/usr/bin/python\n",
    "# -*- coding: UTF-8 -*-\n",
    "import sys\n",
    "import cv2\n",
    "from PyQt5 import QtCore, QtGui, QtWidgets\n",
    "from PyQt5.QtWidgets import *\n",
    "from PyQt5.QtCore import *\n",
    "from PyQt5.QtGui import QPalette, QBrush, QPixmap\n",
    "import os\n",
    "\n",
    "import sys\n",
    "\n",
    "from statistics import mode\n",
    "\n",
    "import cv2\n",
    "from keras.models import load_model\n",
    "import numpy as np\n"
   ]
  },
  {
   "cell_type": "code",
   "execution_count": 2,
   "metadata": {},
   "outputs": [
    {
     "ename": "SystemExit",
     "evalue": "0",
     "output_type": "error",
     "traceback": [
      "An exception has occurred, use %tb to see the full traceback.\n",
      "\u001b[1;31mSystemExit\u001b[0m\u001b[1;31m:\u001b[0m 0\n"
     ]
    },
    {
     "name": "stderr",
     "output_type": "stream",
     "text": [
      "C:\\Users\\robert\\Anaconda3\\envs\\emotion_face\\lib\\site-packages\\IPython\\core\\interactiveshell.py:3299: UserWarning: To exit: use 'exit', 'quit', or Ctrl-D.\n",
      "  warn(\"To exit: use 'exit', 'quit', or Ctrl-D.\", stacklevel=1)\n"
     ]
    }
   ],
   "source": [
    "class Ui_MainWindow(QtWidgets.QWidget):\n",
    "    def __init__(self, parent=None):\n",
    "        super(Ui_MainWindow, self).__init__(parent)\n",
    "\n",
    "        # self.face_recong = face.Recognition()\n",
    "        self.timer_camera = QtCore.QTimer()\n",
    "        self.cap = cv2.VideoCapture()\n",
    "        self.CAM_NUM = 0\n",
    "        self.set_ui()\n",
    "        self.slot_init()\n",
    "        self.__flag_work = 0\n",
    "        self.x =0\n",
    "        self.count = 0\n",
    "\n",
    "    def set_ui(self):\n",
    "\n",
    "        self.__layout_main = QtWidgets.QHBoxLayout()\n",
    "        self.__layout_fun_button = QtWidgets.QVBoxLayout() ##  水平排版\n",
    "        self.__layout_data_show = QtWidgets.QVBoxLayout()\n",
    "\n",
    "\n",
    "        self.button_test = QtWidgets.QPushButton(u'test')##  +button\n",
    "        self.button_open_camera = QtWidgets.QPushButton(u'開啟相機')\n",
    "        self.button_close = QtWidgets.QPushButton(u'退出')\n",
    "\n",
    "\n",
    "        #Button 的顏色修改\n",
    "        button_color = [self.button_open_camera, self.button_close, self.button_test] ##  +button\n",
    "        for i in range(3):\n",
    "            button_color[i].setStyleSheet(\"QPushButton{color:black}\"\n",
    "                                          \"QPushButton:hover{color:red}\"\n",
    "                                          \"QPushButton{background-color:rgb(78,255,255)}\"\n",
    "                                          \"QPushButton{border:2px}\"\n",
    "                                          \"QPushButton{border-radius:10px}\"\n",
    "                                          \"QPushButton{padding:2px 4px}\")\n",
    "\n",
    "\n",
    "        self.button_open_camera.setMinimumHeight(50)\n",
    "        self.button_close.setMinimumHeight(50)\n",
    "        self.button_test.setMinimumHeight(50) # + button\n",
    "        # move()方法移動視窗在螢幕上的位置到x = 300，y = 300座標。\n",
    "        self.move(100,800)\n",
    "\n",
    "        # 資訊顯示\n",
    "        self.label_show_camera = QtWidgets.QLabel()\n",
    "        self.label_move = QtWidgets.QLabel()\n",
    "        self.label_move.setFixedSize(0,100)\n",
    "\n",
    "        self.label_show_camera.setFixedSize(1080, 960)\n",
    "        self.label_show_camera.setAutoFillBackground(False)\n",
    "\n",
    "        self.__layout_fun_button.addWidget(self.button_open_camera)\n",
    "        self.__layout_fun_button.addWidget(self.button_close)\n",
    "        self.__layout_fun_button.addWidget(self.button_test) ## + button\n",
    "        self.__layout_fun_button.addWidget(self.label_move)\n",
    "\n",
    "        self.__layout_main.addLayout(self.__layout_fun_button)\n",
    "        self.__layout_main.addWidget(self.label_show_camera)\n",
    "\n",
    "        self.setLayout(self.__layout_main)\n",
    "        self.label_move.raise_()\n",
    "        self.setWindowTitle(u'攝像頭')\n",
    "\n",
    "        \n",
    "        # 設定背景圖片\n",
    "        palette1 = QPalette()\n",
    "        palette1.setBrush(self.backgroundRole(), QBrush(QPixmap('background.jpg')))\n",
    "        self.setPalette(palette1)\n",
    "\n",
    "        \n",
    "    def slot_init(self):\n",
    "        self.button_open_camera.clicked.connect(self.button_open_camera_click)\n",
    "#         self.timer_camera.timeout.connect(self.show_camera)\n",
    "#         self.button_close.clicked.connect(self.close)\n",
    "#         self.button_test.clicked.connect(self.test_click)\n",
    "    \n",
    "    def button_open_camera_click(self):\n",
    "        if self.timer_camera.isActive() == False:\n",
    "            flag = self.cap.open(self.CAM_NUM)\n",
    "            if flag == False:\n",
    "                msg = QtWidgets.QMessageBox.warning(self, u\"Warning\", u\"請檢測相機與電腦是否連線正確\", buttons=QtWidgets.QMessageBox.Ok,\n",
    "                                                defaultButton=QtWidgets.QMessageBox.Ok)\n",
    "            # if msg==QtGui.QMessageBox.Cancel:\n",
    "            #                     pass\n",
    "            else:\n",
    "                self.timer_camera.start(30)\n",
    "                self.button_open_camera.setText(u'關閉相機')\n",
    "        else:\n",
    "            self.timer_camera.stop()\n",
    "            self.cap.release()\n",
    "            self.label_show_camera.clear()\n",
    "            self.button_open_camera.setText(u'開啟相機')\n",
    "   \n",
    "if __name__ == \"__main__\":\n",
    "    App = QApplication(sys.argv)\n",
    "    ex = Ui_MainWindow()\n",
    "    ex.show()\n",
    "    sys.exit(App.exec_())"
   ]
  }
 ],
 "metadata": {
  "kernelspec": {
   "display_name": "Python 3",
   "language": "python",
   "name": "python3"
  },
  "language_info": {
   "codemirror_mode": {
    "name": "ipython",
    "version": 3
   },
   "file_extension": ".py",
   "mimetype": "text/x-python",
   "name": "python",
   "nbconvert_exporter": "python",
   "pygments_lexer": "ipython3",
   "version": "3.6.8"
  }
 },
 "nbformat": 4,
 "nbformat_minor": 2
}
