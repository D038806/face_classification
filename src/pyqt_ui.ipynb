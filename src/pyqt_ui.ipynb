{
 "cells": [
  {
   "cell_type": "code",
   "execution_count": 1,
   "metadata": {},
   "outputs": [
    {
     "name": "stderr",
     "output_type": "stream",
     "text": [
      "Using TensorFlow backend.\n"
     ]
    }
   ],
   "source": [
    "#!/usr/bin/python\n",
    "# -*- coding: UTF-8 -*-\n",
    "import sys\n",
    "import cv2\n",
    "from PyQt5 import QtCore, QtGui, QtWidgets\n",
    "from PyQt5.QtWidgets import *\n",
    "from PyQt5.QtCore import *\n",
    "from PyQt5.QtGui import QPalette, QBrush, QPixmap\n",
    "import os\n",
    "\n",
    "from statistics import mode\n",
    "\n",
    "from keras.models import load_model\n",
    "import numpy as np\n",
    "\n",
    "# from video_emotion_gender_demo import *"
   ]
  },
  {
   "cell_type": "code",
   "execution_count": 2,
   "metadata": {},
   "outputs": [
    {
     "ename": "SystemExit",
     "evalue": "0",
     "output_type": "error",
     "traceback": [
      "An exception has occurred, use %tb to see the full traceback.\n",
      "\u001b[1;31mSystemExit\u001b[0m\u001b[1;31m:\u001b[0m 0\n"
     ]
    },
    {
     "name": "stderr",
     "output_type": "stream",
     "text": [
      "C:\\Users\\robert\\Anaconda3\\envs\\emotion_face\\lib\\site-packages\\IPython\\core\\interactiveshell.py:3299: UserWarning: To exit: use 'exit', 'quit', or Ctrl-D.\n",
      "  warn(\"To exit: use 'exit', 'quit', or Ctrl-D.\", stacklevel=1)\n"
     ]
    }
   ],
   "source": [
    "from PyQt5.QtGui import QIcon, QFont\n",
    "class Example2(QWidget): \n",
    "    \n",
    "    def __init__(self): \n",
    "        super().__init__() \n",
    "        self.initUI() \n",
    "        \n",
    "    def initUI(self): \n",
    "        QToolTip.setFont(QFont('SansSerif', 30)) \n",
    "        self.setGeometry(200, 200, 400, 400) \n",
    "        self.setWindowTitle('第三个例子-气泡提示') \n",
    "        self.setToolTip('这是第三个例子') \n",
    "        btn = QPushButton('点击吧', self) \n",
    "        btn.setToolTip('按钮啊我是哈哈') \n",
    "        btn.resize(btn.sizeHint()) \n",
    "        btn.move(300, 300) \n",
    "        self.show() \n",
    "        pass \n",
    "    \n",
    "def main3(): \n",
    "        app = QApplication(sys.argv) \n",
    "        example = Example2() \n",
    "        sys.exit(app.exec_()) \n",
    "        \n",
    "if __name__ == '__main__': \n",
    "        main3()"
   ]
  },
  {
   "cell_type": "code",
   "execution_count": null,
   "metadata": {},
   "outputs": [],
   "source": []
  }
 ],
 "metadata": {
  "kernelspec": {
   "display_name": "Python 3",
   "language": "python",
   "name": "python3"
  },
  "language_info": {
   "codemirror_mode": {
    "name": "ipython",
    "version": 3
   },
   "file_extension": ".py",
   "mimetype": "text/x-python",
   "name": "python",
   "nbconvert_exporter": "python",
   "pygments_lexer": "ipython3",
   "version": "3.6.8"
  }
 },
 "nbformat": 4,
 "nbformat_minor": 2
}
