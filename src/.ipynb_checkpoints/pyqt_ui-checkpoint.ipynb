{
 "cells": [
  {
   "cell_type": "code",
   "execution_count": 2,
   "metadata": {},
   "outputs": [],
   "source": [
    "#!/usr/bin/python\n",
    "# -*- coding: UTF-8 -*-\n",
    "import sys\n",
    "import cv2\n",
    "from PyQt5 import QtCore, QtGui, QtWidgets\n",
    "from PyQt5.QtWidgets import *\n",
    "from PyQt5.QtCore import *\n",
    "from PyQt5.QtGui import QPalette, QBrush, QPixmap\n",
    "import os\n",
    "\n",
    "import sys\n",
    "\n",
    "from statistics import mode\n",
    "\n",
    "import cv2\n",
    "from keras.models import load_model\n",
    "import numpy as np\n"
   ]
  },
  {
   "cell_type": "code",
   "execution_count": 3,
   "metadata": {},
   "outputs": [
    {
     "ename": "SystemExit",
     "evalue": "0",
     "output_type": "error",
     "traceback": [
      "An exception has occurred, use %tb to see the full traceback.\n",
      "\u001b[1;31mSystemExit\u001b[0m\u001b[1;31m:\u001b[0m 0\n"
     ]
    },
    {
     "name": "stderr",
     "output_type": "stream",
     "text": [
      "C:\\Users\\robert\\Anaconda3\\envs\\emotion_face\\lib\\site-packages\\IPython\\core\\interactiveshell.py:3299: UserWarning: To exit: use 'exit', 'quit', or Ctrl-D.\n",
      "  warn(\"To exit: use 'exit', 'quit', or Ctrl-D.\", stacklevel=1)\n"
     ]
    }
   ],
   "source": [
    "class MainWindow(QtWidgets.QWidget):\n",
    "\n",
    "    def __init__(self):\n",
    "\n",
    "        super(self.__class__, self).__init__()\n",
    "\n",
    "        self.setupUi()\n",
    "        self.cap = cv2.VideoCapture()\n",
    "        self.CAM_NUM = 0\n",
    "        self.show()\n",
    "\n",
    "\n",
    "\n",
    "    def setupUi(self):\n",
    "\n",
    "        self.setWindowTitle(\"Hello World!\")\n",
    "        \n",
    "        palette = QPalette() \n",
    "        icon = QPixmap('./img_1/fear_man.png').scaled(800, 600) \n",
    "        palette.setBrush(self.backgroundRole(), QBrush(icon)) \n",
    "        self.setPalette(palette) \n",
    "        self.resize(600, 400) \n",
    "        self.label = QLabel(self) \n",
    "        self.label.setFixedSize(390, 250) \n",
    "        self.label.move(100, 80) \n",
    "        self.label.setText(\"显示录像\") \n",
    "        self.label.setStyleSheet(\"QLabel{background:white;}\" \"QLabel{color:rgb(300,300,300,120);font-size:10px;font-weight:bold;font-family:宋体;}\" )\n",
    "\n",
    "        btn = QPushButton(self) \n",
    "        btn1 = QPushButton(self) \n",
    "        btn.move(10, 20) \n",
    "        btn1.move(10, 60)\n",
    "        btn1.setText(\"停止录像\") \n",
    "        btn.setText(\"录像\")\n",
    "\n",
    "        self.timer = QTimer()\n",
    "        self.timer.start()            # 实时刷新，不然视频不动态\n",
    "        self.timer.setInterval(100)   # 设置刷新时间\n",
    "\n",
    "#     def start(self, event): \n",
    "#         self.cap = cv2.VideoCapture(0) #开启摄像头 \n",
    "#         self.timer.timeout.connect(self.capPicture)\n",
    "#         if (self.cap.isOpened()): # get a frame \n",
    "#             ret, img = self.cap.read() \n",
    "#             height, width, bytesPerComponent = img.shape \n",
    "#             bytesPerLine = bytesPerComponent * width \n",
    "#             # 变换彩色空间顺序 \n",
    "#             cv2.cvtColor(img, cv2.COLOR_BGR2RGB, img) \n",
    "#             # 转为QImage对象 \n",
    "#             self.image = QImage(img.data, width, height, bytesPerLine, QImage.Format_RGB888) \n",
    "#             self.label.setPixmap(QPixmap.fromImage(self.image).scaled(self.label.width(), self.label.height()))\n",
    "#             #\"\"\" 停止录像\"\"\" \n",
    "#             self.cap.release() \n",
    "#             self.label.setText(\" \")\n",
    "\n",
    "        \n",
    "if __name__ == \"__main__\":\n",
    "\n",
    "    app = QApplication(sys.argv)\n",
    "\n",
    "    MainWindow = MainWindow()\n",
    "\n",
    "    sys.exit(app.exec_())"
   ]
  },
  {
   "cell_type": "code",
   "execution_count": null,
   "metadata": {},
   "outputs": [],
   "source": []
  }
 ],
 "metadata": {
  "kernelspec": {
   "display_name": "Python 3",
   "language": "python",
   "name": "python3"
  },
  "language_info": {
   "codemirror_mode": {
    "name": "ipython",
    "version": 3
   },
   "file_extension": ".py",
   "mimetype": "text/x-python",
   "name": "python",
   "nbconvert_exporter": "python",
   "pygments_lexer": "ipython3",
   "version": "3.6.8"
  }
 },
 "nbformat": 4,
 "nbformat_minor": 2
}
